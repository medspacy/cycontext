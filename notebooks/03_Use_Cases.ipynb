{
 "cells": [
  {
   "cell_type": "markdown",
   "metadata": {},
   "source": [
    "# Overview\n",
    "\n",
    "\n",
    "In this notebook, we'll look at a few examples of how cycontext can be used to extract information from clinical text."
   ]
  },
  {
   "cell_type": "code",
   "execution_count": 1,
   "metadata": {},
   "outputs": [],
   "source": [
    "import spacy\n",
    "from spacy.pipeline import EntityRuler\n",
    "\n",
    "from medspacy.visualization import visualize_dep, visualize_ent\n",
    "\n",
    "from cycontext import ConTextItem, ConTextComponent"
   ]
  },
  {
   "cell_type": "markdown",
   "metadata": {},
   "source": [
    "# 1. Classifying documents as positive or negative for pneumonia\n",
    "In this example, we'll use cycontext to assert whether mentions of pneumonia are experienced are not. We'll then infer whether an entire document is positive or negative for pneumonia."
   ]
  },
  {
   "cell_type": "code",
   "execution_count": 2,
   "metadata": {},
   "outputs": [],
   "source": [
    "nlp = spacy.load(\"en_core_web_sm\", disable=\"ner\")"
   ]
  },
  {
   "cell_type": "code",
   "execution_count": 3,
   "metadata": {},
   "outputs": [],
   "source": [
    "texts = ['interval opacification within the left lower lobe consistent with consolidation.',\n",
    "         \"No radiographic evidence of pneumonia.\",\n",
    "         \"Reason: evaluate for CHF, infiltrate. IMPRESSION:  Left lower lobe pneumonia.\",\n",
    "         \"Possible consolidation.\",\n",
    "        \n",
    "]"
   ]
  },
  {
   "cell_type": "markdown",
   "metadata": {},
   "source": [
    "Let's first define patterns to match all of the phrases related to pneumonia. We'll use the `EntityRuler` class to extract these as entities in the pipeline."
   ]
  },
  {
   "cell_type": "code",
   "execution_count": 4,
   "metadata": {},
   "outputs": [],
   "source": [
    "targets = [\n",
    "    {'label': 'EVIDENCE_OF_PNEUMONIA',\n",
    "      'pattern': [{'LOWER': {'REGEX': 'pneumonias?'}}]},\n",
    "    {'label': 'EVIDENCE_OF_PNEUMONIA', \n",
    "     'pattern': [{'LOWER': {'REGEX': 'pna'}}]},\n",
    "    {'label': 'EVIDENCE_OF_PNEUMONIA',\n",
    "     'pattern': \"consolidation\",},\n",
    "    {'label': 'EVIDENCE_OF_PNEUMONIA',\n",
    "     'pattern': [{'LOWER': {'REGEX': 'infiltrat(e|es|ion)'}}]},\n",
    "#     {'label': 'EVIDENCE_OF_PNEUMONIA',\n",
    "#     'pattern': [{\"POS\": {\"IN\": [\"ADJ\", \"NOUN\"]}, \"OP\": \"*\"}, {'LOWER': {'REGEX': 'opacit(y|ies)'}}]},\n",
    "          ]"
   ]
  },
  {
   "cell_type": "code",
   "execution_count": 5,
   "metadata": {},
   "outputs": [],
   "source": [
    "ruler = EntityRuler(nlp, overwrite_ents=True)\n",
    "ruler.add_patterns(targets)\n",
    "nlp.add_pipe(ruler)"
   ]
  },
  {
   "cell_type": "markdown",
   "metadata": {},
   "source": [
    "Now we'll define our modifiers using ConTextItem. We'll define items two different categories: **\"DEFINITE_NEGATED_EXISTENCE\"** for when pneumonia is explicitly negated, and **\"INDICATION\"** for when pneumonia is being checked for in an exam."
   ]
  },
  {
   "cell_type": "code",
   "execution_count": 6,
   "metadata": {},
   "outputs": [],
   "source": [
    "# item_data = [\n",
    "#     ConTextItem(literal='indication', category='INDICATION', pattern=None, rule='BIDIRECTIONAL'),\n",
    "#     ConTextItem(literal='no evidence of', category='DEFINITE_NEGATED_EXISTENCE', \n",
    "#                 pattern=[{'LOWER': {'IN': ['no', 'without']}}, {'LOWER': {'IN': ['definite', 'other', 'definitive', 'secondary', 'indirect']}, 'OP': '?'}, {'LOWER': {'IN': ['radiographic', 'sonographic', 'ct']}, 'OP': '?'}, \n",
    "#                          {'LOWER': 'evidence'}, {'LOWER': {'IN': ['of', 'for']}}], rule='FORWARD'),\n",
    "#     ConTextItem(literal='reason', category='INDICATION', pattern=None, rule='FORWARD'),\n",
    "#     ConTextItem(literal='eval for', category='INDICATION', pattern=None, rule='FORWARD'),\n",
    "# ]"
   ]
  },
  {
   "cell_type": "markdown",
   "metadata": {},
   "source": [
    "Now we'll instantiate ConText, add it to the pipeline, and process the texts. For each entity in a Doc, we can check whether it's negated or family history."
   ]
  },
  {
   "cell_type": "code",
   "execution_count": 7,
   "metadata": {},
   "outputs": [],
   "source": [
    "context = ConTextComponent(nlp, rules=\"default\")\n",
    "# context.add(item_data)\n",
    "nlp.add_pipe(context)"
   ]
  },
  {
   "cell_type": "code",
   "execution_count": 8,
   "metadata": {},
   "outputs": [],
   "source": [
    "docs = list(nlp.pipe(texts))"
   ]
  },
  {
   "cell_type": "code",
   "execution_count": 9,
   "metadata": {},
   "outputs": [
    {
     "data": {
      "text/html": [
       "<span class=\"tex2jax_ignore\"><div class=\"entities\" style=\"line-height: 2.5; direction: ltr\">interval opacification within the left lower lobe consistent with \n",
       "<mark class=\"entity\" style=\"background: #1f77b4; padding: 0.45em 0.6em; margin: 0 0.25em; line-height: 1; border-radius: 0.35em;\">\n",
       "    consolidation\n",
       "    <span style=\"font-size: 0.8em; font-weight: bold; line-height: 1; border-radius: 0.35em; text-transform: uppercase; vertical-align: middle; margin-left: 0.5rem\">EVIDENCE_OF_PNEUMONIA</span>\n",
       "</mark>\n",
       ".</div></span>"
      ],
      "text/plain": [
       "<IPython.core.display.HTML object>"
      ]
     },
     "metadata": {},
     "output_type": "display_data"
    }
   ],
   "source": [
    "visualize_ent(docs[0])"
   ]
  },
  {
   "cell_type": "code",
   "execution_count": 10,
   "metadata": {},
   "outputs": [
    {
     "data": {
      "text/html": [
       "<span class=\"tex2jax_ignore\"><div class=\"entities\" style=\"line-height: 2.5; direction: ltr\">\n",
       "<mark class=\"entity\" style=\"background: #ff7f0e; padding: 0.45em 0.6em; margin: 0 0.25em; line-height: 1; border-radius: 0.35em;\">\n",
       "    No radiographic evidence of\n",
       "    <span style=\"font-size: 0.8em; font-weight: bold; line-height: 1; border-radius: 0.35em; text-transform: uppercase; vertical-align: middle; margin-left: 0.5rem\">NEGATED_EXISTENCE</span>\n",
       "</mark>\n",
       " \n",
       "<mark class=\"entity\" style=\"background: #1f77b4; padding: 0.45em 0.6em; margin: 0 0.25em; line-height: 1; border-radius: 0.35em;\">\n",
       "    pneumonia\n",
       "    <span style=\"font-size: 0.8em; font-weight: bold; line-height: 1; border-radius: 0.35em; text-transform: uppercase; vertical-align: middle; margin-left: 0.5rem\">EVIDENCE_OF_PNEUMONIA</span>\n",
       "</mark>\n",
       ".</div></span>"
      ],
      "text/plain": [
       "<IPython.core.display.HTML object>"
      ]
     },
     "metadata": {},
     "output_type": "display_data"
    }
   ],
   "source": [
    "visualize_ent(docs[1])"
   ]
  },
  {
   "cell_type": "code",
   "execution_count": 11,
   "metadata": {},
   "outputs": [
    {
     "data": {
      "text/html": [
       "<span class=\"tex2jax_ignore\"><div class=\"entities\" style=\"line-height: 2.5; direction: ltr\">Reason: \n",
       "<mark class=\"entity\" style=\"background: #ff7f0e; padding: 0.45em 0.6em; margin: 0 0.25em; line-height: 1; border-radius: 0.35em;\">\n",
       "    evaluate for\n",
       "    <span style=\"font-size: 0.8em; font-weight: bold; line-height: 1; border-radius: 0.35em; text-transform: uppercase; vertical-align: middle; margin-left: 0.5rem\">NEGATED_EXISTENCE</span>\n",
       "</mark>\n",
       " CHF, \n",
       "<mark class=\"entity\" style=\"background: #1f77b4; padding: 0.45em 0.6em; margin: 0 0.25em; line-height: 1; border-radius: 0.35em;\">\n",
       "    infiltrate\n",
       "    <span style=\"font-size: 0.8em; font-weight: bold; line-height: 1; border-radius: 0.35em; text-transform: uppercase; vertical-align: middle; margin-left: 0.5rem\">EVIDENCE_OF_PNEUMONIA</span>\n",
       "</mark>\n",
       ". IMPRESSION:  Left lower lobe \n",
       "<mark class=\"entity\" style=\"background: #1f77b4; padding: 0.45em 0.6em; margin: 0 0.25em; line-height: 1; border-radius: 0.35em;\">\n",
       "    pneumonia\n",
       "    <span style=\"font-size: 0.8em; font-weight: bold; line-height: 1; border-radius: 0.35em; text-transform: uppercase; vertical-align: middle; margin-left: 0.5rem\">EVIDENCE_OF_PNEUMONIA</span>\n",
       "</mark>\n",
       ".</div></span>"
      ],
      "text/plain": [
       "<IPython.core.display.HTML object>"
      ]
     },
     "metadata": {},
     "output_type": "display_data"
    }
   ],
   "source": [
    "visualize_ent(docs[2])"
   ]
  },
  {
   "cell_type": "code",
   "execution_count": 12,
   "metadata": {},
   "outputs": [
    {
     "data": {
      "text/html": [
       "<span class=\"tex2jax_ignore\"><div class=\"entities\" style=\"line-height: 2.5; direction: ltr\">\n",
       "<mark class=\"entity\" style=\"background: #1f77b4; padding: 0.45em 0.6em; margin: 0 0.25em; line-height: 1; border-radius: 0.35em;\">\n",
       "    Possible\n",
       "    <span style=\"font-size: 0.8em; font-weight: bold; line-height: 1; border-radius: 0.35em; text-transform: uppercase; vertical-align: middle; margin-left: 0.5rem\">POSSIBLE_EXISTENCE</span>\n",
       "</mark>\n",
       " \n",
       "<mark class=\"entity\" style=\"background: #ff7f0e; padding: 0.45em 0.6em; margin: 0 0.25em; line-height: 1; border-radius: 0.35em;\">\n",
       "    consolidation\n",
       "    <span style=\"font-size: 0.8em; font-weight: bold; line-height: 1; border-radius: 0.35em; text-transform: uppercase; vertical-align: middle; margin-left: 0.5rem\">EVIDENCE_OF_PNEUMONIA</span>\n",
       "</mark>\n",
       ".</div></span>"
      ],
      "text/plain": [
       "<IPython.core.display.HTML object>"
      ]
     },
     "metadata": {},
     "output_type": "display_data"
    }
   ],
   "source": [
    "visualize_ent(docs[3])"
   ]
  },
  {
   "cell_type": "code",
   "execution_count": 13,
   "metadata": {},
   "outputs": [
    {
     "name": "stdout",
     "output_type": "stream",
     "text": [
      "interval opacification within the left lower lobe consistent with consolidation.\n",
      "ent\tis_negated\tis_uncertain\n",
      "consolidation\tFalse\tFalse\n",
      "\n",
      "No radiographic evidence of pneumonia.\n",
      "ent\tis_negated\tis_uncertain\n",
      "pneumonia\tTrue\tFalse\n",
      "\n",
      "Reason: evaluate for CHF, infiltrate. IMPRESSION:  Left lower lobe pneumonia.\n",
      "ent\tis_negated\tis_uncertain\n",
      "infiltrate\tTrue\tFalse\n",
      "pneumonia\tFalse\tFalse\n",
      "\n",
      "Possible consolidation.\n",
      "ent\tis_negated\tis_uncertain\n",
      "consolidation\tFalse\tTrue\n",
      "\n"
     ]
    }
   ],
   "source": [
    "for doc in docs:\n",
    "    print(doc)\n",
    "    print(\"ent\", \"is_negated\", \"is_uncertain\", sep=\"\\t\")\n",
    "    for ent in doc.ents:\n",
    "        print(ent, ent._.is_negated, ent._.is_uncertain, sep=\"\\t\")\n",
    "    print()"
   ]
  },
  {
   "cell_type": "markdown",
   "metadata": {},
   "source": [
    "We have now asserted whether mentions of pneumonia are positive are negative. However, we are often interested in classifying pneumonia at a **document level**, not a span level. For example, although there are two mentions of pneumonia below and one is not experienced, the document overall is.\n",
    "\n",
    "To do this, we'll apply some document inferencing logic. We'll then write a simple function which returns True if there is *at least one* mention of pneumonia which is definitively experienced by the patient. We'll also write a helper function to exclude mentions which are negated, uncertain, etc. \n",
    "\n",
    "We'll register a new extension, `Doc._.pneumonia_positive` and use this function as the getter.\n",
    "\n",
    "This logic could also be put into a component as part of a processing pipeline."
   ]
  },
  {
   "cell_type": "code",
   "execution_count": 14,
   "metadata": {},
   "outputs": [],
   "source": [
    "from spacy.tokens import Doc"
   ]
  },
  {
   "cell_type": "code",
   "execution_count": 15,
   "metadata": {},
   "outputs": [
    {
     "data": {
      "text/plain": [
       "{'NEGATED_EXISTENCE': {'is_negated': True},\n",
       " 'POSSIBLE_EXISTENCE': {'is_uncertain': True},\n",
       " 'HISTORICAL': {'is_historical': True},\n",
       " 'HYPOTHETICAL': {'is_hypothetical': True},\n",
       " 'FAMILY': {'is_family': True}}"
      ]
     },
     "execution_count": 15,
     "metadata": {},
     "output_type": "execute_result"
    }
   ],
   "source": [
    "from cycontext.context_component import DEFAULT_ATTRS\n",
    "DEFAULT_ATTRS"
   ]
  },
  {
   "cell_type": "code",
   "execution_count": 16,
   "metadata": {},
   "outputs": [],
   "source": [
    "def get_pneumonia_positive(doc):\n",
    "    \"\"\"Return True if a doc contains at least one mention of \n",
    "    pneumonia which is not negated, uncertain, historical, \n",
    "    hypothetical, or experienced by family.\n",
    "    \"\"\"\n",
    "    for ent in doc.ents:\n",
    "        if ent.label_ != \"EVIDENCE_OF_PNEUMONIA\":\n",
    "            continue\n",
    "        if include_ent(ent):\n",
    "#             print(ent)\n",
    "            return True\n",
    "    return False\n",
    "\n",
    "def include_ent(ent):\n",
    "    if ent._.is_negated:\n",
    "        return False\n",
    "    if ent._.is_uncertain:\n",
    "        return False\n",
    "    if ent._.is_historical:\n",
    "        return False\n",
    "    if ent._.is_hypothetical:\n",
    "        return False\n",
    "    if ent._.is_family:\n",
    "        return False\n",
    "    return True"
   ]
  },
  {
   "cell_type": "code",
   "execution_count": 17,
   "metadata": {},
   "outputs": [
    {
     "data": {
      "text/plain": [
       "[interval opacification within the left lower lobe consistent with consolidation.,\n",
       " No radiographic evidence of pneumonia.,\n",
       " Reason: evaluate for CHF, infiltrate. IMPRESSION:  Left lower lobe pneumonia.,\n",
       " Possible consolidation.]"
      ]
     },
     "execution_count": 17,
     "metadata": {},
     "output_type": "execute_result"
    }
   ],
   "source": [
    "docs"
   ]
  },
  {
   "cell_type": "code",
   "execution_count": 18,
   "metadata": {},
   "outputs": [],
   "source": [
    "Doc.set_extension(\"pneumonia_positive\", getter=get_pneumonia_positive, force=True)"
   ]
  },
  {
   "cell_type": "code",
   "execution_count": 19,
   "metadata": {},
   "outputs": [],
   "source": [
    "pos_docs = [doc for doc in docs if doc._.pneumonia_positive is True]\n",
    "neg_docs = [doc for doc in docs if doc._.pneumonia_positive is False]"
   ]
  },
  {
   "cell_type": "code",
   "execution_count": 20,
   "metadata": {},
   "outputs": [
    {
     "data": {
      "text/plain": [
       "[interval opacification within the left lower lobe consistent with consolidation.,\n",
       " Reason: evaluate for CHF, infiltrate. IMPRESSION:  Left lower lobe pneumonia.]"
      ]
     },
     "execution_count": 20,
     "metadata": {},
     "output_type": "execute_result"
    }
   ],
   "source": [
    "pos_docs"
   ]
  },
  {
   "cell_type": "code",
   "execution_count": 21,
   "metadata": {},
   "outputs": [
    {
     "data": {
      "text/plain": [
       "[No radiographic evidence of pneumonia., Possible consolidation.]"
      ]
     },
     "execution_count": 21,
     "metadata": {},
     "output_type": "execute_result"
    }
   ],
   "source": [
    "neg_docs"
   ]
  },
  {
   "cell_type": "code",
   "execution_count": null,
   "metadata": {},
   "outputs": [],
   "source": []
  },
  {
   "cell_type": "markdown",
   "metadata": {},
   "source": [
    "# 2. Extracting anatomical sites of surgical site infections\n",
    "So far, we've been using cycontext to **assert** whether clinical conditions are actually present by checking for negation, indication, and family history. However, the ConText algorithm can be used to find other relationships between concepts in text. \n",
    "\n",
    "In this example, we'll show how cycontext can be used to find the anatomical sites of surgical site infections, as done in [this paper](https://www.ncbi.nlm.nih.gov/pmc/articles/PMC5977582/). After extracting the target entities, we'll identify anatomical sites as modifiers and connect them to our targets."
   ]
  },
  {
   "cell_type": "code",
   "execution_count": 22,
   "metadata": {},
   "outputs": [],
   "source": [
    "nlp = spacy.load(\"en_core_web_sm\")\n",
    "_ = nlp.remove_pipe(\"ner\")"
   ]
  },
  {
   "cell_type": "markdown",
   "metadata": {},
   "source": [
    "We'll start by extracting targets using the EntityRuler. The evidence of infections in these text are **\"abscess\"**, \"**hematomas\"**, and **\"collection of fluid\"**."
   ]
  },
  {
   "cell_type": "code",
   "execution_count": 23,
   "metadata": {},
   "outputs": [],
   "source": [
    "texts = [\"There is abscess in the abdomen.\",\n",
    "        \"There is a collection of fluid in the jejunum.\",\n",
    "        \"hematomas are seen around the right lower quadrant\"]"
   ]
  },
  {
   "cell_type": "code",
   "execution_count": 24,
   "metadata": {},
   "outputs": [],
   "source": [
    "targets = [\n",
    "    {\"label\": \"EVIDENCE_OF_SSI\",\n",
    "     \"pattern\": \"abscess\"\n",
    "    },\n",
    "    \n",
    "    {\"label\": \"EVIDENCE_OF_SSI\",\n",
    "     \"pattern\": \"hematomas\"\n",
    "    },\n",
    "    \n",
    "    {\"label\": \"EVIDENCE_OF_SSI\",\n",
    "     \"pattern\": \"collection of fluid\"\n",
    "    },\n",
    "]"
   ]
  },
  {
   "cell_type": "code",
   "execution_count": 25,
   "metadata": {},
   "outputs": [],
   "source": [
    "ruler = EntityRuler(nlp, overwrite_ents=True)\n",
    "ruler.add_patterns(targets)\n",
    "nlp.add_pipe(ruler)"
   ]
  },
  {
   "cell_type": "markdown",
   "metadata": {},
   "source": [
    "Now we'll instantiate context. This time, we'll set `add_attrs` to False because we aren't interested in looking for negation or temporality.\n",
    "\n",
    "We'll now define ConTextItems which match the anatomical sites in the text. When matching, these anatomical sites will be treated the same way as the negation and indication modifiers above. If there are targets within the scope of the matched TagObjects, an edge will be created between them."
   ]
  },
  {
   "cell_type": "code",
   "execution_count": 26,
   "metadata": {},
   "outputs": [],
   "source": [
    "context = ConTextComponent(nlp, add_attrs=False)"
   ]
  },
  {
   "cell_type": "code",
   "execution_count": 27,
   "metadata": {},
   "outputs": [],
   "source": [
    "item_data = [\n",
    "    ConTextItem(literal='abdomen', category='ANATOMICAL_SITE', rule='BIDIRECTIONAL'),\n",
    "    ConTextItem(literal='jejunum', category='ANATOMICAL_SITE', rule='BIDIRECTIONAL'),\n",
    "    ConTextItem(literal='right lower quadrant', category='ANATOMICAL_SITE', rule='BIDIRECTIONAL')\n",
    "]"
   ]
  },
  {
   "cell_type": "code",
   "execution_count": 28,
   "metadata": {},
   "outputs": [],
   "source": [
    "context.add(item_data)\n",
    "\n",
    "nlp.add_pipe(context)"
   ]
  },
  {
   "cell_type": "code",
   "execution_count": 29,
   "metadata": {},
   "outputs": [],
   "source": [
    "docs = list(nlp.pipe(texts))"
   ]
  },
  {
   "cell_type": "code",
   "execution_count": 30,
   "metadata": {},
   "outputs": [
    {
     "data": {
      "text/html": [
       "<span class=\"tex2jax_ignore\"><div class=\"entities\" style=\"line-height: 2.5; direction: ltr\">There is \n",
       "<mark class=\"entity\" style=\"background: orange; padding: 0.45em 0.6em; margin: 0 0.25em; line-height: 1; border-radius: 0.35em;\">\n",
       "    abscess\n",
       "    <span style=\"font-size: 0.8em; font-weight: bold; line-height: 1; border-radius: 0.35em; text-transform: uppercase; vertical-align: middle; margin-left: 0.5rem\">EVIDENCE_OF_SSI</span>\n",
       "</mark>\n",
       " in the \n",
       "<mark class=\"entity\" style=\"background: #c3fca4; padding: 0.45em 0.6em; margin: 0 0.25em; line-height: 1; border-radius: 0.35em;\">\n",
       "    abdomen\n",
       "    <span style=\"font-size: 0.8em; font-weight: bold; line-height: 1; border-radius: 0.35em; text-transform: uppercase; vertical-align: middle; margin-left: 0.5rem\">ANATOMICAL_SITE</span>\n",
       "</mark>\n",
       ".</div></span>"
      ],
      "text/plain": [
       "<IPython.core.display.HTML object>"
      ]
     },
     "metadata": {},
     "output_type": "display_data"
    }
   ],
   "source": [
    "visualize_ent(docs[0], colors={\"ANATOMICAL_SITE\": \"#c3fca4\",\n",
    "                                  \"EVIDENCE_OF_SSI\": \"orange\"})"
   ]
  },
  {
   "cell_type": "code",
   "execution_count": 31,
   "metadata": {},
   "outputs": [
    {
     "data": {
      "text/html": [
       "<span class=\"tex2jax_ignore\"><svg xmlns=\"http://www.w3.org/2000/svg\" xmlns:xlink=\"http://www.w3.org/1999/xlink\" xml:lang=\"en\" id=\"4a63c9a92a06424b81b913c803bc7ae9-0\" class=\"displacy\" width=\"1275\" height=\"224.5\" direction=\"ltr\" style=\"max-width: none; height: 224.5px; color: #000000; background: #ffffff; font-family: Arial; direction: ltr\">\n",
       "<text class=\"displacy-token\" fill=\"currentColor\" text-anchor=\"middle\" y=\"134.5\">\n",
       "    <tspan class=\"displacy-word\" fill=\"currentColor\" x=\"50\">There</tspan>\n",
       "    <tspan class=\"displacy-tag\" dy=\"2em\" fill=\"currentColor\" x=\"50\"></tspan>\n",
       "</text>\n",
       "\n",
       "<text class=\"displacy-token\" fill=\"currentColor\" text-anchor=\"middle\" y=\"134.5\">\n",
       "    <tspan class=\"displacy-word\" fill=\"currentColor\" x=\"225\">is</tspan>\n",
       "    <tspan class=\"displacy-tag\" dy=\"2em\" fill=\"currentColor\" x=\"225\"></tspan>\n",
       "</text>\n",
       "\n",
       "<text class=\"displacy-token\" fill=\"currentColor\" text-anchor=\"middle\" y=\"134.5\">\n",
       "    <tspan class=\"displacy-word\" fill=\"currentColor\" x=\"400\">abscess</tspan>\n",
       "    <tspan class=\"displacy-tag\" dy=\"2em\" fill=\"currentColor\" x=\"400\">EVIDENCE_OF_SSI</tspan>\n",
       "</text>\n",
       "\n",
       "<text class=\"displacy-token\" fill=\"currentColor\" text-anchor=\"middle\" y=\"134.5\">\n",
       "    <tspan class=\"displacy-word\" fill=\"currentColor\" x=\"575\">in</tspan>\n",
       "    <tspan class=\"displacy-tag\" dy=\"2em\" fill=\"currentColor\" x=\"575\"></tspan>\n",
       "</text>\n",
       "\n",
       "<text class=\"displacy-token\" fill=\"currentColor\" text-anchor=\"middle\" y=\"134.5\">\n",
       "    <tspan class=\"displacy-word\" fill=\"currentColor\" x=\"750\">the</tspan>\n",
       "    <tspan class=\"displacy-tag\" dy=\"2em\" fill=\"currentColor\" x=\"750\"></tspan>\n",
       "</text>\n",
       "\n",
       "<text class=\"displacy-token\" fill=\"currentColor\" text-anchor=\"middle\" y=\"134.5\">\n",
       "    <tspan class=\"displacy-word\" fill=\"currentColor\" x=\"925\">abdomen</tspan>\n",
       "    <tspan class=\"displacy-tag\" dy=\"2em\" fill=\"currentColor\" x=\"925\"></tspan>\n",
       "</text>\n",
       "\n",
       "<text class=\"displacy-token\" fill=\"currentColor\" text-anchor=\"middle\" y=\"134.5\">\n",
       "    <tspan class=\"displacy-word\" fill=\"currentColor\" x=\"1100\">.</tspan>\n",
       "    <tspan class=\"displacy-tag\" dy=\"2em\" fill=\"currentColor\" x=\"1100\"></tspan>\n",
       "</text>\n",
       "\n",
       "<g class=\"displacy-arrow\">\n",
       "    <path class=\"displacy-arc\" id=\"arrow-4a63c9a92a06424b81b913c803bc7ae9-0-0\" stroke-width=\"2px\" d=\"M420,89.5 C420,2.0 925.0,2.0 925.0,89.5\" fill=\"none\" stroke=\"currentColor\"/>\n",
       "    <text dy=\"1.25em\" style=\"font-size: 0.8em; letter-spacing: 1px\">\n",
       "        <textPath xlink:href=\"#arrow-4a63c9a92a06424b81b913c803bc7ae9-0-0\" class=\"displacy-label\" startOffset=\"50%\" side=\"left\" fill=\"currentColor\" text-anchor=\"middle\">ANATOMICAL_SITE</textPath>\n",
       "    </text>\n",
       "    <path class=\"displacy-arrowhead\" d=\"M420,91.5 L412,79.5 428,79.5\" fill=\"currentColor\"/>\n",
       "</g>\n",
       "</svg></span>"
      ],
      "text/plain": [
       "<IPython.core.display.HTML object>"
      ]
     },
     "metadata": {},
     "output_type": "display_data"
    }
   ],
   "source": [
    "visualize_dep(docs[0])"
   ]
  },
  {
   "cell_type": "markdown",
   "metadata": {},
   "source": [
    "Now that we have our edges, we'll go a step further and add a new attribute to the targets called `anatomical_site`. If a target has a modifier of **\"ANATOMICAL_SITE\"**, we'll set this new attribute to be the text of the matched span "
   ]
  },
  {
   "cell_type": "code",
   "execution_count": 32,
   "metadata": {},
   "outputs": [],
   "source": [
    "from spacy.tokens import Span"
   ]
  },
  {
   "cell_type": "code",
   "execution_count": 33,
   "metadata": {},
   "outputs": [],
   "source": [
    "Span.set_extension(\"anatomical_site\", default=None, force=True)"
   ]
  },
  {
   "cell_type": "code",
   "execution_count": 34,
   "metadata": {},
   "outputs": [
    {
     "name": "stdout",
     "output_type": "stream",
     "text": [
      "abscess --> abdomen\n",
      "collection of fluid --> jejunum\n",
      "hematomas --> right lower quadrant\n"
     ]
    }
   ],
   "source": [
    "for doc in docs:\n",
    "    for ent in doc.ents:\n",
    "        for mod in ent._.modifiers:\n",
    "            if mod.category == 'ANATOMICAL_SITE':\n",
    "                ent._.anatomical_site = mod.span.text\n",
    "        print(\"{0} --> {1}\".format(ent, ent._.anatomical_site))"
   ]
  },
  {
   "cell_type": "markdown",
   "metadata": {},
   "source": [
    "# 3. Family History of Breast Cancer\n",
    "Another task for cycontext might be identifying patients who have a family history of breast cancer. In this case, we want to first extract mentions of \"breast cancer\" - these will be our target concepts. We then need to define **\"FAMILY_HISTORY\"** modifiers, as well as any other semantic modifiers such as negation."
   ]
  },
  {
   "cell_type": "code",
   "execution_count": 35,
   "metadata": {},
   "outputs": [],
   "source": [
    "nlp = spacy.load(\"en_core_web_sm\", disable=\"ner\")\n",
    "# _ = nlp.remove_pipe(\"ner\")"
   ]
  },
  {
   "cell_type": "markdown",
   "metadata": {},
   "source": [
    "Here are our example texts. The first two are both positive for family history of breast cancer. The final two are negative: In one, the patient themself experiences breast cancer; in the last one, family history of cancer is explicitly negated."
   ]
  },
  {
   "cell_type": "code",
   "execution_count": 36,
   "metadata": {},
   "outputs": [],
   "source": [
    "texts = [\"She has a family history of breast cancer.\",\n",
    "        \"The pt's mother passed away of breast cancer several years ago.\",\n",
    "         \"The patient was diagnosed with breast cancer in 2012.\",\n",
    "        \"No family history of breast ca.\",\n",
    "]"
   ]
  },
  {
   "cell_type": "markdown",
   "metadata": {},
   "source": [
    "We'll define one simple rule to match \"breast cancer\" and \"breast ca\" in our texts. We'll add these to an EntityRuler and add that to the pipeline."
   ]
  },
  {
   "cell_type": "code",
   "execution_count": 37,
   "metadata": {},
   "outputs": [],
   "source": [
    "targets = [\n",
    "    {\"label\": \"BREAST_CANCER\",\n",
    "     \"pattern\": [{\"LOWER\": \"breast\"}, \n",
    "                 {\"LOWER\": {\"IN\": [\"ca\", \"cancer\"]}}\n",
    "                ]\n",
    "    },\n",
    "]"
   ]
  },
  {
   "cell_type": "code",
   "execution_count": 38,
   "metadata": {},
   "outputs": [],
   "source": [
    "ruler = EntityRuler(nlp, overwrite_ents=True)\n",
    "ruler.add_patterns(targets)\n",
    "nlp.add_pipe(ruler)"
   ]
  },
  {
   "cell_type": "markdown",
   "metadata": {},
   "source": [
    "We then load context with the default rules and process our documents. To infer at a document level, we'll check if any entity in the document has a label of **\"BREAST_CANCER\"** and `is_family` is **True** but `is_negated` is **False**."
   ]
  },
  {
   "cell_type": "code",
   "execution_count": 39,
   "metadata": {},
   "outputs": [],
   "source": [
    "context = ConTextComponent(nlp, rules=\"default\")"
   ]
  },
  {
   "cell_type": "code",
   "execution_count": 40,
   "metadata": {},
   "outputs": [],
   "source": [
    "nlp.add_pipe(context)"
   ]
  },
  {
   "cell_type": "code",
   "execution_count": 41,
   "metadata": {},
   "outputs": [],
   "source": [
    "def get_family_history_breast_ca(doc):\n",
    "    for ent in doc.ents:\n",
    "        if ent.label_ != \"BREAST_CANCER\":\n",
    "            continue\n",
    "        # Check if it was family history and if it was not negated\n",
    "        if ent._.is_family and not ent._.is_negated:\n",
    "            return True\n",
    "    return False"
   ]
  },
  {
   "cell_type": "code",
   "execution_count": 42,
   "metadata": {},
   "outputs": [],
   "source": [
    "Doc.set_extension(\"family_history_breast_ca\", getter=get_family_history_breast_ca, force=True)"
   ]
  },
  {
   "cell_type": "code",
   "execution_count": 43,
   "metadata": {},
   "outputs": [],
   "source": [
    "docs = list(nlp.pipe(texts))"
   ]
  },
  {
   "cell_type": "code",
   "execution_count": 44,
   "metadata": {},
   "outputs": [
    {
     "name": "stdout",
     "output_type": "stream",
     "text": [
      "She has a family history of breast cancer.\n",
      "True\n",
      "\n",
      "The pt's mother passed away of breast cancer several years ago.\n",
      "True\n",
      "\n",
      "The patient was diagnosed with breast cancer in 2012.\n",
      "False\n",
      "\n",
      "No family history of breast ca.\n",
      "False\n",
      "\n"
     ]
    }
   ],
   "source": [
    "for doc in docs:\n",
    "    print(doc)\n",
    "    print(doc._.family_history_breast_ca)\n",
    "    print()"
   ]
  },
  {
   "cell_type": "code",
   "execution_count": 45,
   "metadata": {},
   "outputs": [
    {
     "data": {
      "text/html": [
       "<span class=\"tex2jax_ignore\"><svg xmlns=\"http://www.w3.org/2000/svg\" xmlns:xlink=\"http://www.w3.org/1999/xlink\" xml:lang=\"en\" id=\"7d161cb7bf0c4095b1c5e5cda3958a9a-0\" class=\"displacy\" width=\"1100\" height=\"399.5\" direction=\"ltr\" style=\"max-width: none; height: 399.5px; color: #000000; background: #ffffff; font-family: Arial; direction: ltr\">\n",
       "<text class=\"displacy-token\" fill=\"currentColor\" text-anchor=\"middle\" y=\"309.5\">\n",
       "    <tspan class=\"displacy-word\" fill=\"currentColor\" x=\"50\">No</tspan>\n",
       "    <tspan class=\"displacy-tag\" dy=\"2em\" fill=\"currentColor\" x=\"50\"></tspan>\n",
       "</text>\n",
       "\n",
       "<text class=\"displacy-token\" fill=\"currentColor\" text-anchor=\"middle\" y=\"309.5\">\n",
       "    <tspan class=\"displacy-word\" fill=\"currentColor\" x=\"225\">family</tspan>\n",
       "    <tspan class=\"displacy-tag\" dy=\"2em\" fill=\"currentColor\" x=\"225\"></tspan>\n",
       "</text>\n",
       "\n",
       "<text class=\"displacy-token\" fill=\"currentColor\" text-anchor=\"middle\" y=\"309.5\">\n",
       "    <tspan class=\"displacy-word\" fill=\"currentColor\" x=\"400\">history</tspan>\n",
       "    <tspan class=\"displacy-tag\" dy=\"2em\" fill=\"currentColor\" x=\"400\"></tspan>\n",
       "</text>\n",
       "\n",
       "<text class=\"displacy-token\" fill=\"currentColor\" text-anchor=\"middle\" y=\"309.5\">\n",
       "    <tspan class=\"displacy-word\" fill=\"currentColor\" x=\"575\">of</tspan>\n",
       "    <tspan class=\"displacy-tag\" dy=\"2em\" fill=\"currentColor\" x=\"575\"></tspan>\n",
       "</text>\n",
       "\n",
       "<text class=\"displacy-token\" fill=\"currentColor\" text-anchor=\"middle\" y=\"309.5\">\n",
       "    <tspan class=\"displacy-word\" fill=\"currentColor\" x=\"750\">breast ca</tspan>\n",
       "    <tspan class=\"displacy-tag\" dy=\"2em\" fill=\"currentColor\" x=\"750\">BREAST_CANCER</tspan>\n",
       "</text>\n",
       "\n",
       "<text class=\"displacy-token\" fill=\"currentColor\" text-anchor=\"middle\" y=\"309.5\">\n",
       "    <tspan class=\"displacy-word\" fill=\"currentColor\" x=\"925\">.</tspan>\n",
       "    <tspan class=\"displacy-tag\" dy=\"2em\" fill=\"currentColor\" x=\"925\"></tspan>\n",
       "</text>\n",
       "\n",
       "<g class=\"displacy-arrow\">\n",
       "    <path class=\"displacy-arc\" id=\"arrow-7d161cb7bf0c4095b1c5e5cda3958a9a-0-0\" stroke-width=\"2px\" d=\"M70,264.5 C70,2.0 750.0,2.0 750.0,264.5\" fill=\"none\" stroke=\"currentColor\"/>\n",
       "    <text dy=\"1.25em\" style=\"font-size: 0.8em; letter-spacing: 1px\">\n",
       "        <textPath xlink:href=\"#arrow-7d161cb7bf0c4095b1c5e5cda3958a9a-0-0\" class=\"displacy-label\" startOffset=\"50%\" side=\"left\" fill=\"currentColor\" text-anchor=\"middle\">NEGATED_EXISTENCE</textPath>\n",
       "    </text>\n",
       "    <path class=\"displacy-arrowhead\" d=\"M750.0,266.5 L758.0,254.5 742.0,254.5\" fill=\"currentColor\"/>\n",
       "</g>\n",
       "\n",
       "<g class=\"displacy-arrow\">\n",
       "    <path class=\"displacy-arc\" id=\"arrow-7d161cb7bf0c4095b1c5e5cda3958a9a-0-1\" stroke-width=\"2px\" d=\"M245,264.5 C245,89.5 745.0,89.5 745.0,264.5\" fill=\"none\" stroke=\"currentColor\"/>\n",
       "    <text dy=\"1.25em\" style=\"font-size: 0.8em; letter-spacing: 1px\">\n",
       "        <textPath xlink:href=\"#arrow-7d161cb7bf0c4095b1c5e5cda3958a9a-0-1\" class=\"displacy-label\" startOffset=\"50%\" side=\"left\" fill=\"currentColor\" text-anchor=\"middle\">FAMILY</textPath>\n",
       "    </text>\n",
       "    <path class=\"displacy-arrowhead\" d=\"M745.0,266.5 L753.0,254.5 737.0,254.5\" fill=\"currentColor\"/>\n",
       "</g>\n",
       "\n",
       "<g class=\"displacy-arrow\">\n",
       "    <path class=\"displacy-arc\" id=\"arrow-7d161cb7bf0c4095b1c5e5cda3958a9a-0-2\" stroke-width=\"2px\" d=\"M420,264.5 C420,177.0 740.0,177.0 740.0,264.5\" fill=\"none\" stroke=\"currentColor\"/>\n",
       "    <text dy=\"1.25em\" style=\"font-size: 0.8em; letter-spacing: 1px\">\n",
       "        <textPath xlink:href=\"#arrow-7d161cb7bf0c4095b1c5e5cda3958a9a-0-2\" class=\"displacy-label\" startOffset=\"50%\" side=\"left\" fill=\"currentColor\" text-anchor=\"middle\">HISTORICAL</textPath>\n",
       "    </text>\n",
       "    <path class=\"displacy-arrowhead\" d=\"M740.0,266.5 L748.0,254.5 732.0,254.5\" fill=\"currentColor\"/>\n",
       "</g>\n",
       "</svg></span>"
      ],
      "text/plain": [
       "<IPython.core.display.HTML object>"
      ]
     },
     "metadata": {},
     "output_type": "display_data"
    }
   ],
   "source": [
    "visualize_dep(docs[3])"
   ]
  }
 ],
 "metadata": {
  "kernelspec": {
   "display_name": "Python 3",
   "language": "python",
   "name": "python3"
  },
  "language_info": {
   "codemirror_mode": {
    "name": "ipython",
    "version": 3
   },
   "file_extension": ".py",
   "mimetype": "text/x-python",
   "name": "python",
   "nbconvert_exporter": "python",
   "pygments_lexer": "ipython3",
   "version": "3.7.9"
  }
 },
 "nbformat": 4,
 "nbformat_minor": 4
}
